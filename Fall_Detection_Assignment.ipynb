{
  "nbformat": 4,
  "nbformat_minor": 0,
  "metadata": {
    "colab": {
      "provenance": [],
      "authorship_tag": "ABX9TyOYO/OAb0EiDpQlULsQ6dXQ",
      "include_colab_link": true
    },
    "kernelspec": {
      "name": "python3",
      "display_name": "Python 3"
    },
    "language_info": {
      "name": "python"
    }
  },
  "cells": [
    {
      "cell_type": "markdown",
      "metadata": {
        "id": "view-in-github",
        "colab_type": "text"
      },
      "source": [
        "<a href=\"https://colab.research.google.com/github/AlfiRam/Computer-Vision-Fall-Detection-Assignment/blob/main/Fall_Detection_Assignment.ipynb\" target=\"_parent\"><img src=\"https://colab.research.google.com/assets/colab-badge.svg\" alt=\"Open In Colab\"/></a>"
      ]
    },
    {
      "cell_type": "code",
      "source": [
        "pip install mediapipe"
      ],
      "metadata": {
        "id": "H9UICxLZu3BC"
      },
      "execution_count": null,
      "outputs": []
    },
    {
      "cell_type": "code",
      "execution_count": null,
      "metadata": {
        "colab": {
          "base_uri": "https://localhost:8080/"
        },
        "id": "qUc6lA9fuoxp",
        "outputId": "388db1f9-895b-418f-ad95-a2fb95f4d171"
      },
      "outputs": [
        {
          "output_type": "stream",
          "name": "stdout",
          "text": [
            "Mounted at /content/drive\n"
          ]
        }
      ],
      "source": [
        "import cv2\n",
        "import mediapipe as mp\n",
        "from google.colab.patches import cv2_imshow\n",
        "from google.colab import drive\n",
        "drive.mount('/content/drive')"
      ]
    },
    {
      "cell_type": "code",
      "source": [
        "import cv2\n",
        "import mediapipe as mp\n",
        "\n",
        "mp_drawing = mp.solutions.drawing_utils\n",
        "mp_pose = mp.solutions.pose\n",
        "\n",
        "POSE_CONFIDENCE_THRESHOLD = 0.5\n",
        "with mp_pose.Pose(\n",
        "    min_detection_confidence=POSE_CONFIDENCE_THRESHOLD,\n",
        "    min_tracking_confidence=POSE_CONFIDENCE_THRESHOLD\n",
        ") as pose:\n",
        "    video_path = '/content/drive/MyDrive/UNI/SEMESTER 4/comvis/Alfi Falling Video Landscape 720.mp4'\n",
        "\n",
        "    cap = cv2.VideoCapture(video_path)\n",
        "\n",
        "    prev_centroid_y = None\n",
        "    fall_frames = 0\n",
        "    fall_threshold = 10\n",
        "    centroid_drop_threshold = 0.2\n",
        "    frame_counter = 0\n",
        "    while cap.isOpened():\n",
        "        ret, frame = cap.read()\n",
        "        if not ret:\n",
        "            break\n",
        "        frame_counter += 1\n",
        "        image = cv2.cvtColor(frame, cv2.COLOR_BGR2RGB)\n",
        "\n",
        "        results = pose.process(image)\n",
        "\n",
        "        #Check if any pose is detected\n",
        "        if results.pose_landmarks:\n",
        "            #Get the bounding box coordinates of the person\n",
        "            bbox_min_x = min(landmark.x for landmark in results.pose_landmarks.landmark)\n",
        "            bbox_max_x = max(landmark.x for landmark in results.pose_landmarks.landmark)\n",
        "            bbox_min_y = min(landmark.y for landmark in results.pose_landmarks.landmark)\n",
        "            bbox_max_y = max(landmark.y for landmark in results.pose_landmarks.landmark)\n",
        "            bbox_width = (bbox_max_x - bbox_min_x) * frame.shape[1]\n",
        "            bbox_height = (bbox_max_y - bbox_min_y) *frame.shape[0]\n",
        "\n",
        "            #Calculate the centroid of the person\n",
        "            centroid_x = bbox_min_x + (bbox_width / 2)\n",
        "            centroid_y = bbox_min_y + (bbox_height / 2)\n",
        "\n",
        "            centroid_drop = 0\n",
        "\n",
        "            #Check if centroid position moved down\n",
        "            if prev_centroid_y is not None:\n",
        "                centroid_drop = prev_centroid_y - centroid_y\n",
        "                significant_drop = centroid_drop > centroid_drop_threshold\n",
        "                fall_frames += 1 if significant_drop else 0\n",
        "            else:\n",
        "                fall_frames = 0\n",
        "\n",
        "            #Check if person has fallen based on the condition:\n",
        "            is_falling = fall_frames >= fall_threshold or bbox_width > bbox_height\n",
        "\n",
        "            #Display  bounding box\n",
        "            cv2.rectangle(frame, (int(bbox_min_x * frame.shape[1]), int(bbox_min_y * frame.shape[0])),\n",
        "                          (int(bbox_max_x * frame.shape[1]), int(bbox_max_y * frame.shape[0])), (0, 255, 0), 2)\n",
        "\n",
        "            mp_drawing.draw_landmarks(\n",
        "                frame,\n",
        "                results.pose_landmarks,\n",
        "                mp_pose.POSE_CONNECTIONS,\n",
        "                mp_drawing.DrawingSpec(color=(0, 255, 0), thickness=2, circle_radius=2),\n",
        "                mp_drawing.DrawingSpec(color=(0, 0, 255), thickness=2)\n",
        "            )\n",
        "\n",
        "            cv2_imshow(frame)\n",
        "\n",
        "            print(\"frame number: \",frame_counter, \" centroid drop: \", centroid_drop, \" fall frames: \", fall_frames, \" fall threshold: \", fall_threshold, \" bounding box width: \", bbox_width, \" bounding box height: \", bbox_height)\n",
        "            if is_falling:\n",
        "                print(\"\\033[1m\\033[92mFALL DETECTED!\\033[0m\")\n",
        "            else:\n",
        "                print(\"\\033[1m\\033[91mno fall detected\\033[0m\")\n",
        "\n",
        "        prev_centroid_y = centroid_y\n",
        "\n",
        "    # Release the video capture and close the windows\n",
        "    cap.release()\n",
        "    cv2.destroyAllWindows()\n"
      ],
      "metadata": {
        "colab": {
          "base_uri": "https://localhost:8080/",
          "height": 1000
        },
        "id": "-Ns0jl_EuwYi",
        "outputId": "827dfe16-4750-4e5c-abba-3b16233e10da"
      },
      "execution_count": null,
      "outputs": []
    }
  ]
}